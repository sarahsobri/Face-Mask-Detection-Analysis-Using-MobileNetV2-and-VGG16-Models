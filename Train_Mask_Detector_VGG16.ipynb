{
 "cells": [
  {
   "cell_type": "code",
   "execution_count": 1,
   "id": "2048d419",
   "metadata": {},
   "outputs": [],
   "source": [
    "# import necessary packages\n",
    "from tensorflow.keras.preprocessing.image import ImageDataGenerator\n",
    "from tensorflow.keras.applications import MobileNetV2\n",
    "from tensorflow.keras.layers import AveragePooling2D\n",
    "from tensorflow.keras.layers import Dropout\n",
    "from tensorflow.keras.layers import Flatten\n",
    "from tensorflow.keras.layers import Dense\n",
    "from tensorflow.keras.layers import Input\n",
    "from tensorflow.keras.models import Model\n",
    "from tensorflow.keras.optimizers import Adam\n",
    "from tensorflow.keras.applications.mobilenet_v2 import preprocess_input\n",
    "from tensorflow.keras.preprocessing.image import img_to_array\n",
    "from tensorflow.keras.preprocessing.image import load_img\n",
    "from tensorflow.keras.utils import to_categorical\n",
    "from sklearn.preprocessing import LabelBinarizer\n",
    "from sklearn.model_selection import train_test_split\n",
    "from sklearn.metrics import classification_report\n",
    "from imutils import paths\n",
    "import matplotlib.pyplot as plt\n",
    "import numpy as np\n",
    "import os"
   ]
  },
  {
   "cell_type": "code",
   "execution_count": 2,
   "id": "fdf136d6",
   "metadata": {},
   "outputs": [
    {
     "data": {
      "text/plain": [
       "'/Users/sarahsobri/Desktop/Face-Mask-Detection-master'"
      ]
     },
     "execution_count": 2,
     "metadata": {},
     "output_type": "execute_result"
    }
   ],
   "source": [
    "import os\n",
    "mypath = os.getcwd()\n",
    "mypath"
   ]
  },
  {
   "cell_type": "code",
   "execution_count": 3,
   "id": "98f0f244",
   "metadata": {},
   "outputs": [],
   "source": [
    "# initialize the initial learning rate, number of epochs to train for and batch size\n",
    "INIT_LR = 1e-4\n",
    "EPOCHS =20\n",
    "BS = 32\n",
    "\n",
    "DIRECTORY = r'/Users/sarahsobri/Desktop/Face-Mask-Detection-master/dataset'\n",
    "CATEGORIES = ['with_mask', 'without_mask'] #folders in the directory"
   ]
  },
  {
   "cell_type": "code",
   "execution_count": 4,
   "id": "3183f87c",
   "metadata": {},
   "outputs": [
    {
     "name": "stderr",
     "output_type": "stream",
     "text": [
      "/Users/sarahsobri/opt/anaconda3/lib/python3.8/site-packages/PIL/Image.py:962: UserWarning: Palette images with Transparency expressed in bytes should be converted to RGBA images\n",
      "  warnings.warn(\n"
     ]
    }
   ],
   "source": [
    "#grab the list of images in our dataset directory, then initialize\n",
    "# the list of data and class images\n",
    "import os\n",
    "from tensorflow.keras.preprocessing.image import img_to_array\n",
    "from tensorflow.keras.preprocessing.image import load_img\n",
    "from tensorflow.keras.applications.mobilenet_v2 import preprocess_input\n",
    "\n",
    "data = [] \n",
    "labels =[]\n",
    "\n",
    "for category in CATEGORIES:\n",
    "  path = os.path.join(DIRECTORY,category)\n",
    "  for img in os.listdir(path):\n",
    "    img_path = os.path.join(path, img)\n",
    "    image = load_img(img_path, target_size=(224,224)) #height and width of image uniformly converted\n",
    "    image = img_to_array(image) #convert the image to array\n",
    "    image = preprocess_input(image) \n",
    "\n",
    "    data.append(image) #append image to the data list #the data is now in numerical value\n",
    "    labels.append(category) #append the category into the labels list #label is still available value. converted"
   ]
  },
  {
   "cell_type": "code",
   "execution_count": 5,
   "id": "2e718c4f",
   "metadata": {},
   "outputs": [],
   "source": [
    "from tensorflow.keras.utils import to_categorical\n",
    "from sklearn.preprocessing import LabelBinarizer\n",
    "from sklearn.model_selection import train_test_split"
   ]
  },
  {
   "cell_type": "code",
   "execution_count": 6,
   "id": "c5220127",
   "metadata": {},
   "outputs": [],
   "source": [
    "lb = LabelBinarizer()\n",
    "labels = lb.fit_transform(labels)\n",
    "labels = to_categorical(labels)\n",
    "\n",
    "data = np.array(data, dtype='float32')\n",
    "labels = np.array(labels)\n",
    "\n",
    "(trainx, testx, trainy, testy) = train_test_split(data,labels,\n",
    "                                                  test_size=0.2, stratify=labels, random_state=42)"
   ]
  },
  {
   "cell_type": "code",
   "execution_count": 7,
   "id": "8c5ce502",
   "metadata": {},
   "outputs": [],
   "source": [
    "# construct the training iamge generator for data augmentation\n",
    "# data augmentation- adding various properties. more dataset from one image\n",
    "aug = ImageDataGenerator( \n",
    "    rotation_range=20,\n",
    "    zoom_range=0.15,\n",
    "    width_shift_range=0.2,\n",
    "    height_shift_range=0.2,\n",
    "    shear_range=0.15,\n",
    "    horizontal_flip=True,\n",
    "    fill_mode='nearest'\n",
    ")"
   ]
  },
  {
   "cell_type": "code",
   "execution_count": 12,
   "id": "6f48b0ff",
   "metadata": {},
   "outputs": [],
   "source": [
    "from tensorflow.keras.applications import VGG16\n",
    "BaseModel2 = VGG16(weights='imagenet', include_top=False,\n",
    "                        input_tensor=Input(shape=(224,224,3)))"
   ]
  },
  {
   "cell_type": "code",
   "execution_count": 13,
   "id": "f73389c3",
   "metadata": {},
   "outputs": [],
   "source": [
    "for layer in BaseModel2.layers:\n",
    "    layer.trainable = False # load the weights of VGg16 and freeze them"
   ]
  },
  {
   "cell_type": "code",
   "execution_count": 14,
   "id": "7c22d349",
   "metadata": {},
   "outputs": [],
   "source": [
    "#construct the head of the model that will be placed on top of the base model\n",
    "\n",
    "def layer_add(HeadModel2, num_classes):\n",
    "    HeadModel2 = HeadModel2.output\n",
    "    HeadModel2 = AveragePooling2D(pool_size=(7,7))(HeadModel2)\n",
    "    HeadModel2 = Flatten(name='flatten')(HeadModel2)\n",
    "    HeadModel2 = Dense(128, activation='relu')(HeadModel2)\n",
    "    HeadModel2 = Dropout(0.5)(HeadModel2)#prevent overfitting\n",
    "    HeadModel2 = Dense(2, activation='softmax')(HeadModel2)\n",
    "    return HeadModel2"
   ]
  },
  {
   "cell_type": "code",
   "execution_count": 15,
   "id": "0b0e7978",
   "metadata": {},
   "outputs": [
    {
     "name": "stdout",
     "output_type": "stream",
     "text": [
      "<bound method Model.summary of <tensorflow.python.keras.engine.functional.Functional object at 0x7ff1aa033a60>>\n"
     ]
    }
   ],
   "source": [
    "# set the class number to 2 (mask, without mask)\n",
    "# add new layers for fine-tuning\n",
    "num_classes = 2\n",
    "FC_head = layer_add(BaseModel2, num_classes)\n",
    "\n",
    "final_model_VGG = Model(inputs = BaseModel2.input, outputs = FC_head)\n",
    "\n",
    "print(final_model_VGG.summary)"
   ]
  },
  {
   "cell_type": "code",
   "execution_count": 22,
   "id": "c04d38fa",
   "metadata": {},
   "outputs": [],
   "source": [
    "#compile out mode\n",
    "from tensorflow.keras.callbacks import EarlyStopping\n",
    "\n",
    "optimizer =Adam(learning_rate=INIT_LR, decay=INIT_LR / EPOCHS)\n",
    "final_model_VGG.compile(loss='binary_crossentropy', optimizer=optimizer,metrics=['accuracy'])"
   ]
  },
  {
   "cell_type": "code",
   "execution_count": 24,
   "id": "c9a3c63a",
   "metadata": {},
   "outputs": [
    {
     "name": "stdout",
     "output_type": "stream",
     "text": [
      "[INFO] training head...\n",
      "Epoch 1/20\n",
      "95/95 [==============================] - 909s 10s/step - loss: 0.7645 - accuracy: 0.5550 - val_loss: 0.5368 - val_accuracy: 0.9022\n",
      "Epoch 2/20\n",
      "95/95 [==============================] - 1040s 11s/step - loss: 0.5638 - accuracy: 0.7142 - val_loss: 0.4014 - val_accuracy: 0.9374\n",
      "Epoch 3/20\n",
      "95/95 [==============================] - 970s 10s/step - loss: 0.4372 - accuracy: 0.8230 - val_loss: 0.3136 - val_accuracy: 0.9505\n",
      "Epoch 4/20\n",
      "95/95 [==============================] - 846s 9s/step - loss: 0.3593 - accuracy: 0.8711 - val_loss: 0.2596 - val_accuracy: 0.9518\n",
      "Epoch 5/20\n",
      "95/95 [==============================] - 627s 7s/step - loss: 0.3153 - accuracy: 0.9024 - val_loss: 0.2168 - val_accuracy: 0.9609\n",
      "Epoch 6/20\n",
      "95/95 [==============================] - 619s 7s/step - loss: 0.2654 - accuracy: 0.9216 - val_loss: 0.1875 - val_accuracy: 0.9648\n",
      "Epoch 7/20\n",
      "95/95 [==============================] - 499s 5s/step - loss: 0.2418 - accuracy: 0.9305 - val_loss: 0.1795 - val_accuracy: 0.9570\n",
      "Epoch 8/20\n",
      "95/95 [==============================] - 488s 5s/step - loss: 0.2139 - accuracy: 0.9390 - val_loss: 0.1520 - val_accuracy: 0.9648\n",
      "Epoch 9/20\n",
      "95/95 [==============================] - 491s 5s/step - loss: 0.2032 - accuracy: 0.9367 - val_loss: 0.1469 - val_accuracy: 0.9648\n",
      "Epoch 10/20\n",
      "95/95 [==============================] - 485s 5s/step - loss: 0.1824 - accuracy: 0.9413 - val_loss: 0.1331 - val_accuracy: 0.9661\n",
      "Epoch 11/20\n",
      "95/95 [==============================] - 488s 5s/step - loss: 0.1737 - accuracy: 0.9509 - val_loss: 0.1240 - val_accuracy: 0.9661\n",
      "Epoch 12/20\n",
      "95/95 [==============================] - 1033s 11s/step - loss: 0.1668 - accuracy: 0.9506 - val_loss: 0.1150 - val_accuracy: 0.9648\n",
      "Epoch 13/20\n",
      "95/95 [==============================] - 836s 9s/step - loss: 0.1547 - accuracy: 0.9535 - val_loss: 0.1107 - val_accuracy: 0.9674\n",
      "Epoch 14/20\n",
      "95/95 [==============================] - 613s 6s/step - loss: 0.1479 - accuracy: 0.9520 - val_loss: 0.1056 - val_accuracy: 0.9687\n",
      "Epoch 15/20\n",
      "95/95 [==============================] - 765s 8s/step - loss: 0.1391 - accuracy: 0.9591 - val_loss: 0.0992 - val_accuracy: 0.9700\n",
      "Epoch 16/20\n",
      "95/95 [==============================] - 662s 7s/step - loss: 0.1340 - accuracy: 0.9598 - val_loss: 0.0953 - val_accuracy: 0.9700\n",
      "Epoch 17/20\n",
      "95/95 [==============================] - 980s 10s/step - loss: 0.1306 - accuracy: 0.9591 - val_loss: 0.0913 - val_accuracy: 0.9700\n",
      "Epoch 18/20\n",
      "95/95 [==============================] - 992s 10s/step - loss: 0.1160 - accuracy: 0.9674 - val_loss: 0.0872 - val_accuracy: 0.9713\n",
      "Epoch 19/20\n",
      "95/95 [==============================] - 1095s 12s/step - loss: 0.1160 - accuracy: 0.9667 - val_loss: 0.0825 - val_accuracy: 0.9739\n",
      "Epoch 20/20\n",
      "95/95 [==============================] - 899s 9s/step - loss: 0.1215 - accuracy: 0.9621 - val_loss: 0.0866 - val_accuracy: 0.9726\n"
     ]
    }
   ],
   "source": [
    "#train the head of the network\n",
    "print('[INFO] training head...')\n",
    "History = final_model_VGG.fit(\n",
    "    aug.flow(trainx,trainy, batch_size=BS),\n",
    "    steps_per_epoch=len(trainx) // BS, \n",
    "    validation_data=(testx, testy), \n",
    "    validation_steps=len(testx) // BS, \n",
    "    epochs=EPOCHS)"
   ]
  },
  {
   "cell_type": "code",
   "execution_count": 27,
   "id": "f97f20c6",
   "metadata": {},
   "outputs": [],
   "source": [
    "#make predictions on the testing set\n",
    "predict = final_model_VGG.predict(testx, batch_size=BS)"
   ]
  },
  {
   "cell_type": "code",
   "execution_count": 28,
   "id": "892e8135",
   "metadata": {},
   "outputs": [],
   "source": [
    "#for each image in the testing set we need to find the index of the label with corresponding largest predicted probability\n",
    "predict = np.argmax(predict, axis=1)"
   ]
  },
  {
   "cell_type": "code",
   "execution_count": 29,
   "id": "c82de1f7",
   "metadata": {},
   "outputs": [
    {
     "name": "stdout",
     "output_type": "stream",
     "text": [
      "              precision    recall  f1-score   support\n",
      "\n",
      "   with_mask       0.98      0.96      0.97       383\n",
      "without_mask       0.96      0.98      0.97       384\n",
      "\n",
      "    accuracy                           0.97       767\n",
      "   macro avg       0.97      0.97      0.97       767\n",
      "weighted avg       0.97      0.97      0.97       767\n",
      "\n"
     ]
    }
   ],
   "source": [
    "print(classification_report(testy.argmax(axis=1), predict, target_names=lb.classes_))"
   ]
  },
  {
   "cell_type": "code",
   "execution_count": 31,
   "id": "ce6f325a",
   "metadata": {},
   "outputs": [],
   "source": [
    "# serialize the model to disk\n",
    "final_model_VGG.save(\"vgg_mask_detector.model\", save_format=\"h5\")"
   ]
  },
  {
   "cell_type": "markdown",
   "id": "670084a4",
   "metadata": {},
   "source": [
    "model.save('mask_detector_vgg16.model',save_format='h5)"
   ]
  },
  {
   "cell_type": "code",
   "execution_count": 35,
   "id": "7d58decd",
   "metadata": {},
   "outputs": [
    {
     "data": {
      "image/png": "[encoded data removed]",
      "text/plain": [
       "<Figure size 432x288 with 1 Axes>"
      ]
     },
     "metadata": {},
     "output_type": "display_data"
    }
   ],
   "source": [
    "# plot the training loss and accuracy\n",
    "N = EPOCHS\n",
    "plt.style.use(\"ggplot\")\n",
    "plt.figure()\n",
    "plt.plot(np.arange(0, N), History.history[\"loss\"], label=\"train_loss\")\n",
    "plt.plot(np.arange(0, N), History.history[\"val_loss\"], label=\"val_loss\")\n",
    "plt.plot(np.arange(0, N), History.history[\"accuracy\"], label=\"train_acc\")\n",
    "plt.plot(np.arange(0, N), History.history[\"val_accuracy\"], label=\"val_acc\")\n",
    "plt.title(\"Training Loss and Accuracy\")\n",
    "plt.xlabel(\"Epoch #\")\n",
    "plt.ylabel(\"Loss/Accuracy\")\n",
    "plt.legend(loc=\"lower left\")\n",
    "plt.savefig(\"plot.png\")"
   ]
  },
  {
   "cell_type": "code",
   "execution_count": null,
   "id": "047b8812",
   "metadata": {},
   "outputs": [],
   "source": []
  }
 ],
 "metadata": {
  "kernelspec": {
   "display_name": "Python 3",
   "language": "python",
   "name": "python3"
  },
  "language_info": {
   "codemirror_mode": {
    "name": "ipython",
    "version": 3
   },
   "file_extension": ".py",
   "mimetype": "text/x-python",
   "name": "python",
   "nbconvert_exporter": "python",
   "pygments_lexer": "ipython3",
   "version": "3.8.8"
  }
 },
 "nbformat": 4,
 "nbformat_minor": 5
}
